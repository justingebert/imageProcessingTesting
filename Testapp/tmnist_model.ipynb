{
 "cells": [
  {
   "cell_type": "code",
   "execution_count": 1,
   "outputs": [
    {
     "name": "stdout",
     "output_type": "stream",
     "text": [
      "2.13.0\n"
     ]
    }
   ],
   "source": [
    "import numpy as np\n",
    "import pandas as pd\n",
    "import matplotlib.pyplot as plt\n",
    "import tensorflow as tf\n",
    "import keras \n",
    "from keras.models import Sequential\n",
    "from keras.layers import Dense, Conv2D, Dropout, Flatten, MaxPooling2D, InputLayer\n",
    "print(tf.version.VERSION)"
   ],
   "metadata": {
    "collapsed": false,
    "ExecuteTime": {
     "end_time": "2023-08-22T15:13:51.092804900Z",
     "start_time": "2023-08-22T15:13:48.746034500Z"
    }
   },
   "id": "9aebd349cb37a307"
  },
  {
   "cell_type": "markdown",
   "source": [
    "IDEA: move images up and down an create new labels for half numbers?"
   ],
   "metadata": {
    "collapsed": false
   },
   "id": "3536462df959a59e"
  },
  {
   "cell_type": "code",
   "execution_count": 2,
   "outputs": [
    {
     "data": {
      "text/plain": "                                  names  labels  1  2  3  4  5  6  7  8  ...  \\\n0                    GrandHotel-Regular       2  0  0  0  0  0  0  0  0  ...   \n1            EncodeSansCondensed-Medium       8  0  0  0  0  0  0  0  0  ...   \n2                        Varela-Regular       4  0  0  0  0  0  0  0  0  ...   \n3                        ArefRuqaa-Bold       3  0  0  0  0  0  0  0  0  ...   \n4                     KulimPark-Regular       1  0  0  0  0  0  0  0  0  ...   \n...                                 ...     ... .. .. .. .. .. .. .. ..  ...   \n29895                     Raleway[wght]       7  0  0  0  0  0  0  0  0  ...   \n29896                     Charm-Regular       5  0  0  0  0  0  0  0  0  ...   \n29897  BigShouldersStencilDisplay-Black       0  0  0  0  0  0  0  0  0  ...   \n29898                  Gabriela-Regular       1  0  0  0  0  0  0  0  0  ...   \n29899                       Ovo-Regular       6  0  0  0  0  0  0  0  0  ...   \n\n       775  776  777  778  779  780  781  782  783  784  \n0        0    0    0    0    0    0    0    0    0    0  \n1        0    0    0    0    0    0    0    0    0    0  \n2        0    0    0    0    0    0    0    0    0    0  \n3        0    0    0    0    0    0    0    0    0    0  \n4        0    0    0    0    0    0    0    0    0    0  \n...    ...  ...  ...  ...  ...  ...  ...  ...  ...  ...  \n29895    0    0    0    0    0    0    0    0    0    0  \n29896    0    0    0    0    0    0    0    0    0    0  \n29897    0    0    0    0    0    0    0    0    0    0  \n29898    0    0    0    0    0    0    0    0    0    0  \n29899    0    0    0    0    0    0    0    0    0    0  \n\n[29900 rows x 786 columns]",
      "text/html": "<div>\n<style scoped>\n    .dataframe tbody tr th:only-of-type {\n        vertical-align: middle;\n    }\n\n    .dataframe tbody tr th {\n        vertical-align: top;\n    }\n\n    .dataframe thead th {\n        text-align: right;\n    }\n</style>\n<table border=\"1\" class=\"dataframe\">\n  <thead>\n    <tr style=\"text-align: right;\">\n      <th></th>\n      <th>names</th>\n      <th>labels</th>\n      <th>1</th>\n      <th>2</th>\n      <th>3</th>\n      <th>4</th>\n      <th>5</th>\n      <th>6</th>\n      <th>7</th>\n      <th>8</th>\n      <th>...</th>\n      <th>775</th>\n      <th>776</th>\n      <th>777</th>\n      <th>778</th>\n      <th>779</th>\n      <th>780</th>\n      <th>781</th>\n      <th>782</th>\n      <th>783</th>\n      <th>784</th>\n    </tr>\n  </thead>\n  <tbody>\n    <tr>\n      <th>0</th>\n      <td>GrandHotel-Regular</td>\n      <td>2</td>\n      <td>0</td>\n      <td>0</td>\n      <td>0</td>\n      <td>0</td>\n      <td>0</td>\n      <td>0</td>\n      <td>0</td>\n      <td>0</td>\n      <td>...</td>\n      <td>0</td>\n      <td>0</td>\n      <td>0</td>\n      <td>0</td>\n      <td>0</td>\n      <td>0</td>\n      <td>0</td>\n      <td>0</td>\n      <td>0</td>\n      <td>0</td>\n    </tr>\n    <tr>\n      <th>1</th>\n      <td>EncodeSansCondensed-Medium</td>\n      <td>8</td>\n      <td>0</td>\n      <td>0</td>\n      <td>0</td>\n      <td>0</td>\n      <td>0</td>\n      <td>0</td>\n      <td>0</td>\n      <td>0</td>\n      <td>...</td>\n      <td>0</td>\n      <td>0</td>\n      <td>0</td>\n      <td>0</td>\n      <td>0</td>\n      <td>0</td>\n      <td>0</td>\n      <td>0</td>\n      <td>0</td>\n      <td>0</td>\n    </tr>\n    <tr>\n      <th>2</th>\n      <td>Varela-Regular</td>\n      <td>4</td>\n      <td>0</td>\n      <td>0</td>\n      <td>0</td>\n      <td>0</td>\n      <td>0</td>\n      <td>0</td>\n      <td>0</td>\n      <td>0</td>\n      <td>...</td>\n      <td>0</td>\n      <td>0</td>\n      <td>0</td>\n      <td>0</td>\n      <td>0</td>\n      <td>0</td>\n      <td>0</td>\n      <td>0</td>\n      <td>0</td>\n      <td>0</td>\n    </tr>\n    <tr>\n      <th>3</th>\n      <td>ArefRuqaa-Bold</td>\n      <td>3</td>\n      <td>0</td>\n      <td>0</td>\n      <td>0</td>\n      <td>0</td>\n      <td>0</td>\n      <td>0</td>\n      <td>0</td>\n      <td>0</td>\n      <td>...</td>\n      <td>0</td>\n      <td>0</td>\n      <td>0</td>\n      <td>0</td>\n      <td>0</td>\n      <td>0</td>\n      <td>0</td>\n      <td>0</td>\n      <td>0</td>\n      <td>0</td>\n    </tr>\n    <tr>\n      <th>4</th>\n      <td>KulimPark-Regular</td>\n      <td>1</td>\n      <td>0</td>\n      <td>0</td>\n      <td>0</td>\n      <td>0</td>\n      <td>0</td>\n      <td>0</td>\n      <td>0</td>\n      <td>0</td>\n      <td>...</td>\n      <td>0</td>\n      <td>0</td>\n      <td>0</td>\n      <td>0</td>\n      <td>0</td>\n      <td>0</td>\n      <td>0</td>\n      <td>0</td>\n      <td>0</td>\n      <td>0</td>\n    </tr>\n    <tr>\n      <th>...</th>\n      <td>...</td>\n      <td>...</td>\n      <td>...</td>\n      <td>...</td>\n      <td>...</td>\n      <td>...</td>\n      <td>...</td>\n      <td>...</td>\n      <td>...</td>\n      <td>...</td>\n      <td>...</td>\n      <td>...</td>\n      <td>...</td>\n      <td>...</td>\n      <td>...</td>\n      <td>...</td>\n      <td>...</td>\n      <td>...</td>\n      <td>...</td>\n      <td>...</td>\n      <td>...</td>\n    </tr>\n    <tr>\n      <th>29895</th>\n      <td>Raleway[wght]</td>\n      <td>7</td>\n      <td>0</td>\n      <td>0</td>\n      <td>0</td>\n      <td>0</td>\n      <td>0</td>\n      <td>0</td>\n      <td>0</td>\n      <td>0</td>\n      <td>...</td>\n      <td>0</td>\n      <td>0</td>\n      <td>0</td>\n      <td>0</td>\n      <td>0</td>\n      <td>0</td>\n      <td>0</td>\n      <td>0</td>\n      <td>0</td>\n      <td>0</td>\n    </tr>\n    <tr>\n      <th>29896</th>\n      <td>Charm-Regular</td>\n      <td>5</td>\n      <td>0</td>\n      <td>0</td>\n      <td>0</td>\n      <td>0</td>\n      <td>0</td>\n      <td>0</td>\n      <td>0</td>\n      <td>0</td>\n      <td>...</td>\n      <td>0</td>\n      <td>0</td>\n      <td>0</td>\n      <td>0</td>\n      <td>0</td>\n      <td>0</td>\n      <td>0</td>\n      <td>0</td>\n      <td>0</td>\n      <td>0</td>\n    </tr>\n    <tr>\n      <th>29897</th>\n      <td>BigShouldersStencilDisplay-Black</td>\n      <td>0</td>\n      <td>0</td>\n      <td>0</td>\n      <td>0</td>\n      <td>0</td>\n      <td>0</td>\n      <td>0</td>\n      <td>0</td>\n      <td>0</td>\n      <td>...</td>\n      <td>0</td>\n      <td>0</td>\n      <td>0</td>\n      <td>0</td>\n      <td>0</td>\n      <td>0</td>\n      <td>0</td>\n      <td>0</td>\n      <td>0</td>\n      <td>0</td>\n    </tr>\n    <tr>\n      <th>29898</th>\n      <td>Gabriela-Regular</td>\n      <td>1</td>\n      <td>0</td>\n      <td>0</td>\n      <td>0</td>\n      <td>0</td>\n      <td>0</td>\n      <td>0</td>\n      <td>0</td>\n      <td>0</td>\n      <td>...</td>\n      <td>0</td>\n      <td>0</td>\n      <td>0</td>\n      <td>0</td>\n      <td>0</td>\n      <td>0</td>\n      <td>0</td>\n      <td>0</td>\n      <td>0</td>\n      <td>0</td>\n    </tr>\n    <tr>\n      <th>29899</th>\n      <td>Ovo-Regular</td>\n      <td>6</td>\n      <td>0</td>\n      <td>0</td>\n      <td>0</td>\n      <td>0</td>\n      <td>0</td>\n      <td>0</td>\n      <td>0</td>\n      <td>0</td>\n      <td>...</td>\n      <td>0</td>\n      <td>0</td>\n      <td>0</td>\n      <td>0</td>\n      <td>0</td>\n      <td>0</td>\n      <td>0</td>\n      <td>0</td>\n      <td>0</td>\n      <td>0</td>\n    </tr>\n  </tbody>\n</table>\n<p>29900 rows × 786 columns</p>\n</div>"
     },
     "execution_count": 2,
     "metadata": {},
     "output_type": "execute_result"
    }
   ],
   "source": [
    "#load data\n",
    "data = pd.read_csv('data/TMNIST_Data.csv', header=0)\n",
    "data"
   ],
   "metadata": {
    "collapsed": false,
    "ExecuteTime": {
     "end_time": "2023-08-22T15:13:51.871804500Z",
     "start_time": "2023-08-22T15:13:51.093805Z"
    }
   },
   "id": "64f8c6a03f54ed05"
  },
  {
   "cell_type": "code",
   "execution_count": 28,
   "outputs": [
    {
     "name": "stdout",
     "output_type": "stream",
     "text": [
      "(23920, 28, 28, 1)\n",
      "(23920,)\n",
      "(5980, 28, 28, 1)\n",
      "(5980,)\n"
     ]
    }
   ],
   "source": [
    "from sklearn.model_selection import train_test_split\n",
    "\n",
    "X = data.drop(columns = {'names', 'labels'}, axis=1)\n",
    "X = X.values.reshape(-1,28,28,1) / 255.0 #normalize and reshape to square\n",
    "X = 1- X #invert colors\n",
    "y = data['labels']\n",
    "\n",
    "X_train, X_test, y_train, y_test = train_test_split(X, y, test_size=0.2, random_state=42)\n",
    "\n",
    " \n",
    "print(X_train.shape)\n",
    "print(y_train.shape)\n",
    "print(X_test.shape)\n",
    "print(y_test.shape)"
   ],
   "metadata": {
    "collapsed": false,
    "ExecuteTime": {
     "end_time": "2023-08-22T15:24:16.424986800Z",
     "start_time": "2023-08-22T15:24:15.969515700Z"
    }
   },
   "id": "4479b4f2f0e4ec54"
  },
  {
   "cell_type": "code",
   "execution_count": 29,
   "outputs": [
    {
     "data": {
      "text/plain": "<Figure size 640x480 with 1 Axes>",
      "image/png": "[encoded data removed]"
     },
     "metadata": {},
     "output_type": "display_data"
    }
   ],
   "source": [
    "sample_image = X_train[1]\n",
    "\n",
    "# Plot the image\n",
    "plt.imshow(sample_image, cmap='gray')\n",
    "plt.show()"
   ],
   "metadata": {
    "collapsed": false,
    "ExecuteTime": {
     "end_time": "2023-08-22T15:24:16.540985100Z",
     "start_time": "2023-08-22T15:24:16.426997700Z"
    }
   },
   "id": "7cb7cbc3a90941d5"
  },
  {
   "cell_type": "code",
   "execution_count": 30,
   "outputs": [],
   "source": [
    "batch_size = 128\n",
    "num_classes = 10\n",
    "epochs = 6\n",
    "learning_rate = 0.001"
   ],
   "metadata": {
    "collapsed": false,
    "ExecuteTime": {
     "end_time": "2023-08-22T15:24:16.588986600Z",
     "start_time": "2023-08-22T15:24:16.533987300Z"
    }
   },
   "id": "9fb425c48c793757"
  },
  {
   "cell_type": "code",
   "execution_count": 31,
   "outputs": [
    {
     "name": "stdout",
     "output_type": "stream",
     "text": [
      "Model: \"sequential_3\"\n",
      "_________________________________________________________________\n",
      " Layer (type)                Output Shape              Param #   \n",
      "=================================================================\n",
      " conv2d_6 (Conv2D)           (None, 26, 26, 32)        320       \n",
      "                                                                 \n",
      " max_pooling2d_3 (MaxPoolin  (None, 13, 13, 32)        0         \n",
      " g2D)                                                            \n",
      "                                                                 \n",
      " conv2d_7 (Conv2D)           (None, 11, 11, 64)        18496     \n",
      "                                                                 \n",
      " flatten_3 (Flatten)         (None, 7744)              0         \n",
      "                                                                 \n",
      " dense_6 (Dense)             (None, 128)               991360    \n",
      "                                                                 \n",
      " dropout (Dropout)           (None, 128)               0         \n",
      "                                                                 \n",
      " dense_7 (Dense)             (None, 10)                1290      \n",
      "                                                                 \n",
      "=================================================================\n",
      "Total params: 1011466 (3.86 MB)\n",
      "Trainable params: 1011466 (3.86 MB)\n",
      "Non-trainable params: 0 (0.00 Byte)\n",
      "_________________________________________________________________\n"
     ]
    }
   ],
   "source": [
    "#create model\n",
    "model = Sequential()\n",
    "model.add(InputLayer(input_shape=(28, 28, 1)))\n",
    "model.add(Conv2D(32, kernel_size=(3, 3), activation='relu', input_shape=(28, 28, 1)))\n",
    "model.add(MaxPooling2D(pool_size=(2, 2)))\n",
    "model.add(Conv2D(64, kernel_size=(3, 3), activation='relu'))\n",
    "model.add(Flatten())  # Flattening the 2D arrays for fully connected layers\n",
    "model.add(Dense(128, activation='relu'))\n",
    "model.add(Dropout(0.2))\n",
    "model.add(Dense(num_classes, activation=\"softmax\")) #no softmax for thresholding\n",
    "\n",
    "model.summary()"
   ],
   "metadata": {
    "collapsed": false,
    "ExecuteTime": {
     "end_time": "2023-08-22T15:24:16.686984700Z",
     "start_time": "2023-08-22T15:24:16.595984700Z"
    }
   },
   "id": "d9cfcb89dde3df70"
  },
  {
   "cell_type": "code",
   "execution_count": 32,
   "outputs": [],
   "source": [
    "#compile model\n",
    "model.compile(optimizer=tf.keras.optimizers.Adam(learning_rate=learning_rate),\n",
    "              loss='sparse_categorical_crossentropy',\n",
    "              metrics=['accuracy'])"
   ],
   "metadata": {
    "collapsed": false,
    "ExecuteTime": {
     "end_time": "2023-08-22T15:24:17.058684400Z",
     "start_time": "2023-08-22T15:24:17.026687500Z"
    }
   },
   "id": "6c87aef551128ef5"
  },
  {
   "cell_type": "code",
   "execution_count": 33,
   "outputs": [
    {
     "name": "stdout",
     "output_type": "stream",
     "text": [
      "Epoch 1/6\n",
      "187/187 [==============================] - 13s 65ms/step - loss: 0.3894 - accuracy: 0.8895 - val_loss: 0.0975 - val_accuracy: 0.9722\n",
      "Epoch 2/6\n",
      "187/187 [==============================] - 12s 62ms/step - loss: 0.0924 - accuracy: 0.9724 - val_loss: 0.0690 - val_accuracy: 0.9803\n",
      "Epoch 3/6\n",
      "187/187 [==============================] - 12s 63ms/step - loss: 0.0619 - accuracy: 0.9826 - val_loss: 0.0530 - val_accuracy: 0.9860\n",
      "Epoch 4/6\n",
      "187/187 [==============================] - 11s 61ms/step - loss: 0.0442 - accuracy: 0.9866 - val_loss: 0.0489 - val_accuracy: 0.9870\n",
      "Epoch 5/6\n",
      "187/187 [==============================] - 11s 61ms/step - loss: 0.0381 - accuracy: 0.9880 - val_loss: 0.0453 - val_accuracy: 0.9878\n",
      "Epoch 6/6\n",
      "187/187 [==============================] - 11s 60ms/step - loss: 0.0292 - accuracy: 0.9913 - val_loss: 0.0420 - val_accuracy: 0.9891\n"
     ]
    }
   ],
   "source": [
    "#train model\n",
    "history = model.fit(x=X_train, y=y_train, epochs=epochs, batch_size=batch_size, validation_data=(X_test, y_test), verbose=1)"
   ],
   "metadata": {
    "collapsed": false,
    "ExecuteTime": {
     "end_time": "2023-08-22T15:25:27.583117800Z",
     "start_time": "2023-08-22T15:24:17.523494400Z"
    }
   },
   "id": "d6b90466ed3fe170"
  },
  {
   "cell_type": "code",
   "execution_count": 34,
   "outputs": [
    {
     "name": "stdout",
     "output_type": "stream",
     "text": [
      "Test loss: 0.04198380932211876\n",
      "Test accuracy: 98.9130437374115\n"
     ]
    }
   ],
   "source": [
    "#evaluate model\n",
    "score = model.evaluate(X_test, y_test, verbose=0)\n",
    "print('Test loss:', score[0])\n",
    "print('Test accuracy:', score[1] * 100)"
   ],
   "metadata": {
    "collapsed": false,
    "ExecuteTime": {
     "end_time": "2023-08-22T15:25:28.351635Z",
     "start_time": "2023-08-22T15:25:27.552126800Z"
    }
   },
   "id": "f03624acad85a67c"
  },
  {
   "cell_type": "code",
   "execution_count": 35,
   "outputs": [
    {
     "data": {
      "text/plain": "<Figure size 640x480 with 1 Axes>",
      "image/png": "[encoded data removed]"
     },
     "metadata": {},
     "output_type": "display_data"
    }
   ],
   "source": [
    "#plot training and test loss\n",
    "plt.plot(history.history['loss'])\n",
    "plt.plot(history.history['val_loss'])\n",
    "plt.title('Model loss')\n",
    "plt.ylabel('Loss')\n",
    "plt.xlabel('Epoch')\n",
    "plt.legend(['Train', 'Test'])\n",
    "plt.show()"
   ],
   "metadata": {
    "collapsed": false,
    "ExecuteTime": {
     "end_time": "2023-08-22T15:25:28.464639500Z",
     "start_time": "2023-08-22T15:25:28.343638500Z"
    }
   },
   "id": "e205a2767c503fa3"
  },
  {
   "cell_type": "code",
   "execution_count": 36,
   "outputs": [
    {
     "data": {
      "text/plain": "<Figure size 640x480 with 1 Axes>",
      "image/png": "[encoded data removed]"
     },
     "metadata": {},
     "output_type": "display_data"
    }
   ],
   "source": [
    "#plot training and test accuracy\n",
    "plt.plot(history.history['accuracy'])\n",
    "plt.plot(history.history['val_accuracy'])\n",
    "plt.title('Model accuracy')\n",
    "plt.ylabel('Accuracy')\n",
    "plt.xlabel('Epoch')\n",
    "plt.legend(['Train', 'Test'])\n",
    "plt.show()"
   ],
   "metadata": {
    "collapsed": false,
    "ExecuteTime": {
     "end_time": "2023-08-22T15:25:28.568639200Z",
     "start_time": "2023-08-22T15:25:28.455637Z"
    }
   },
   "id": "1c097e9970b04f99"
  },
  {
   "cell_type": "code",
   "execution_count": 37,
   "outputs": [
    {
     "name": "stdout",
     "output_type": "stream",
     "text": [
      "187/187 [==============================] - 1s 4ms/step\n",
      "[5.3612201e-15 8.4132316e-13 9.5859033e-12 1.0000000e+00 1.3924314e-14\n",
      " 3.4265561e-08 8.9449834e-16 1.3181761e-11 1.7244503e-08 5.5683960e-09]\n",
      "3\n",
      "15756    3\n",
      "19617    5\n",
      "18973    8\n",
      "16397    9\n",
      "16366    0\n",
      "        ..\n",
      "708      9\n",
      "23587    8\n",
      "27362    3\n",
      "20592    8\n",
      "9934     5\n",
      "Name: labels, Length: 5980, dtype: int64\n"
     ]
    }
   ],
   "source": [
    "#predict model\n",
    "predictions = model.predict(X_test)\n",
    "print(predictions[0])\n",
    "print(np.argmax(predictions[0]))\n",
    "print(y_test[:]) #why is this not indexed from 0?\n"
   ],
   "metadata": {
    "collapsed": false,
    "ExecuteTime": {
     "end_time": "2023-08-22T15:25:29.509169100Z",
     "start_time": "2023-08-22T15:25:28.565637500Z"
    }
   },
   "id": "86a052b68612fd9a"
  },
  {
   "cell_type": "code",
   "execution_count": 38,
   "outputs": [],
   "source": [
    "#save model\n",
    "model.save('models/TMNIST_model.keras')"
   ],
   "metadata": {
    "collapsed": false,
    "ExecuteTime": {
     "end_time": "2023-08-22T15:25:29.555167800Z",
     "start_time": "2023-08-22T15:25:29.491635500Z"
    }
   },
   "id": "4e5867e1a60c8681"
  },
  {
   "cell_type": "code",
   "execution_count": null,
   "outputs": [],
   "source": [],
   "metadata": {
    "collapsed": false
   },
   "id": "613476449f6d2bc"
  }
 ],
 "metadata": {
  "kernelspec": {
   "display_name": "Python 3",
   "language": "python",
   "name": "python3"
  },
  "language_info": {
   "codemirror_mode": {
    "name": "ipython",
    "version": 2
   },
   "file_extension": ".py",
   "mimetype": "text/x-python",
   "name": "python",
   "nbconvert_exporter": "python",
   "pygments_lexer": "ipython2",
   "version": "2.7.6"
  }
 },
 "nbformat": 4,
 "nbformat_minor": 5
}
