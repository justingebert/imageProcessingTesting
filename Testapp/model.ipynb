{
 "cells": [
  {
   "cell_type": "code",
   "execution_count": 10,
   "id": "initial_id",
   "metadata": {
    "collapsed": true,
    "ExecuteTime": {
     "end_time": "2023-08-22T12:54:36.577391600Z",
     "start_time": "2023-08-22T12:54:36.524390800Z"
    }
   },
   "outputs": [
    {
     "name": "stdout",
     "output_type": "stream",
     "text": [
      "[]\n"
     ]
    }
   ],
   "source": [
    "import numpy as np\n",
    "import matplotlib.pyplot as plt\n",
    "import tensorflow as tf\n",
    "import keras \n",
    "from keras.models import Sequential\n",
    "from keras.layers import Dense, Conv2D, Dropout, Flatten, MaxPooling2D, InputLayer\n",
    "import os\n",
    "import cv2 as cv\n",
    "physical_devices = tf.config.list_physical_devices('GPU')\n",
    "print(physical_devices)\n",
    "#tf.config.experimental.set_memory_growth(physical_devices[0], True)"
   ]
  },
  {
   "cell_type": "markdown",
   "source": [],
   "metadata": {
    "collapsed": false
   },
   "id": "3ed2d73139a08bd3"
  },
  {
   "cell_type": "code",
   "execution_count": 11,
   "outputs": [],
   "source": [
    "# Load mnist Data set\n",
    "mnist = tf.keras.datasets.mnist.load_data()\n",
    "\n",
    "(x_train, y_train), (x_test, y_test) = mnist\n",
    "x_train = x_train.reshape(x_train.shape[0], 28, 28, 1).astype('float32') / 255.0\n",
    "x_test = x_test.reshape(x_test.shape[0], 28, 28, 1).astype('float32') / 255.0\n"
   ],
   "metadata": {
    "collapsed": false,
    "ExecuteTime": {
     "end_time": "2023-08-22T12:54:36.840388500Z",
     "start_time": "2023-08-22T12:54:36.528390600Z"
    }
   },
   "id": "d885f851bf3ef7c7"
  },
  {
   "cell_type": "code",
   "execution_count": 12,
   "outputs": [],
   "source": [
    "#HYPERPARAMETERS\n",
    "batch_size = 128\n",
    "num_classes = 10\n",
    "epochs = 6\n",
    "learning_rate = 0.001"
   ],
   "metadata": {
    "collapsed": false,
    "ExecuteTime": {
     "end_time": "2023-08-22T12:54:36.856389700Z",
     "start_time": "2023-08-22T12:54:36.841389600Z"
    }
   },
   "id": "962b6f87036c66a2"
  },
  {
   "cell_type": "code",
   "execution_count": 13,
   "outputs": [
    {
     "name": "stdout",
     "output_type": "stream",
     "text": [
      "Model: \"sequential_1\"\n",
      "_________________________________________________________________\n",
      " Layer (type)                Output Shape              Param #   \n",
      "=================================================================\n",
      " conv2d_2 (Conv2D)           (None, 26, 26, 32)        320       \n",
      "                                                                 \n",
      " max_pooling2d_1 (MaxPoolin  (None, 13, 13, 32)        0         \n",
      " g2D)                                                            \n",
      "                                                                 \n",
      " conv2d_3 (Conv2D)           (None, 11, 11, 64)        18496     \n",
      "                                                                 \n",
      " flatten_1 (Flatten)         (None, 7744)              0         \n",
      "                                                                 \n",
      " dense_2 (Dense)             (None, 128)               991360    \n",
      "                                                                 \n",
      " dropout_1 (Dropout)         (None, 128)               0         \n",
      "                                                                 \n",
      " dense_3 (Dense)             (None, 10)                1290      \n",
      "                                                                 \n",
      "=================================================================\n",
      "Total params: 1011466 (3.86 MB)\n",
      "Trainable params: 1011466 (3.86 MB)\n",
      "Non-trainable params: 0 (0.00 Byte)\n",
      "_________________________________________________________________\n"
     ]
    }
   ],
   "source": [
    "#create model\n",
    "model = Sequential()\n",
    "model.add(Conv2D(32, kernel_size=(3,3), activation='relu', input_shape=(28,28,1)))\n",
    "model.add(MaxPooling2D(pool_size=(2,2)))\n",
    "model.add(Conv2D(64, kernel_size=(3,3), activation='relu'))\n",
    "model.add(Flatten()) # Flattening the 2D arrays for fully connected layers\n",
    "model.add(Dense(128, activation='relu'))\n",
    "model.add(Dropout(0.2))\n",
    "model.add(Dense(num_classes, activation='softmax'))\n",
    "\n",
    "model.summary()"
   ],
   "metadata": {
    "collapsed": false,
    "ExecuteTime": {
     "end_time": "2023-08-22T12:54:36.920388500Z",
     "start_time": "2023-08-22T12:54:36.857389300Z"
    }
   },
   "id": "e4f9dcc3b29c961"
  },
  {
   "cell_type": "code",
   "execution_count": 14,
   "outputs": [],
   "source": [
    "#compile model\n",
    "model.compile(optimizer=tf.keras.optimizers.Adam(learning_rate=learning_rate),\n",
    "              loss='sparse_categorical_crossentropy',\n",
    "              metrics=['accuracy'])"
   ],
   "metadata": {
    "collapsed": false,
    "ExecuteTime": {
     "end_time": "2023-08-22T12:54:36.953389200Z",
     "start_time": "2023-08-22T12:54:36.921388400Z"
    }
   },
   "id": "9bc84ba8e3a5c30d"
  },
  {
   "cell_type": "code",
   "execution_count": 15,
   "outputs": [
    {
     "name": "stdout",
     "output_type": "stream",
     "text": [
      "Epoch 1/6\n",
      "469/469 [==============================] - 31s 64ms/step - loss: 0.1710 - accuracy: 0.9481 - val_loss: 0.0426 - val_accuracy: 0.9860\n",
      "Epoch 2/6\n",
      "469/469 [==============================] - 32s 68ms/step - loss: 0.0526 - accuracy: 0.9836 - val_loss: 0.0329 - val_accuracy: 0.9879\n",
      "Epoch 3/6\n",
      "469/469 [==============================] - 29s 62ms/step - loss: 0.0352 - accuracy: 0.9889 - val_loss: 0.0283 - val_accuracy: 0.9903\n",
      "Epoch 4/6\n",
      "469/469 [==============================] - 30s 63ms/step - loss: 0.0260 - accuracy: 0.9914 - val_loss: 0.0328 - val_accuracy: 0.9892\n",
      "Epoch 5/6\n",
      "469/469 [==============================] - 31s 67ms/step - loss: 0.0197 - accuracy: 0.9938 - val_loss: 0.0288 - val_accuracy: 0.9908\n",
      "Epoch 6/6\n",
      "469/469 [==============================] - 29s 61ms/step - loss: 0.0163 - accuracy: 0.9946 - val_loss: 0.0287 - val_accuracy: 0.9917\n"
     ]
    },
    {
     "data": {
      "text/plain": "<keras.src.callbacks.History at 0x1becca0f310>"
     },
     "execution_count": 15,
     "metadata": {},
     "output_type": "execute_result"
    }
   ],
   "source": [
    "\n",
    "#train model\n",
    "model.fit(x=x_train,y=y_train, epochs=epochs, batch_size=batch_size, validation_data=(x_test, y_test), verbose=1)"
   ],
   "metadata": {
    "collapsed": false,
    "ExecuteTime": {
     "end_time": "2023-08-22T12:57:37.827962800Z",
     "start_time": "2023-08-22T12:54:36.937393200Z"
    }
   },
   "id": "79de95e09d50885b"
  },
  {
   "cell_type": "code",
   "execution_count": 16,
   "outputs": [
    {
     "name": "stdout",
     "output_type": "stream",
     "text": [
      "Test loss: 0.02870827354490757\n",
      "Test accuracy: 99.16999936103821\n"
     ]
    }
   ],
   "source": [
    "\n",
    "#evaluate model\n",
    "score = model.evaluate(x_test, y_test, verbose=0)\n",
    "print('Test loss:', score[0])\n",
    "print('Test accuracy:', score[1]*100)"
   ],
   "metadata": {
    "collapsed": false,
    "ExecuteTime": {
     "end_time": "2023-08-22T12:57:39.087082Z",
     "start_time": "2023-08-22T12:57:37.830962600Z"
    }
   },
   "id": "e6203ded68e8245e"
  },
  {
   "cell_type": "code",
   "execution_count": 17,
   "outputs": [
    {
     "name": "stdout",
     "output_type": "stream",
     "text": [
      "313/313 [==============================] - 1s 4ms/step\n",
      "[5.4179994e-11 3.0827657e-10 1.1880163e-07 1.1370493e-06 4.5164489e-10\n",
      " 1.8912298e-10 1.4944751e-13 9.9999869e-01 2.3701877e-11 1.9517909e-08]\n",
      "7\n",
      "7\n"
     ]
    }
   ],
   "source": [
    "#predict model\n",
    "predictions = model.predict(x_test)\n",
    "print(predictions[0])\n",
    "print(np.argmax(predictions[0]))\n",
    "print(y_test[0])"
   ],
   "metadata": {
    "collapsed": false,
    "ExecuteTime": {
     "end_time": "2023-08-22T12:57:40.514855200Z",
     "start_time": "2023-08-22T12:57:39.089082900Z"
    }
   },
   "id": "1a03291a9568ddaa"
  },
  {
   "cell_type": "code",
   "execution_count": 18,
   "outputs": [],
   "source": [
    "model.save('models/MNIST_model.keras')"
   ],
   "metadata": {
    "collapsed": false,
    "ExecuteTime": {
     "end_time": "2023-08-22T12:57:40.575856Z",
     "start_time": "2023-08-22T12:57:40.515855100Z"
    }
   },
   "id": "179cf21ebe36d01f"
  }
 ],
 "metadata": {
  "kernelspec": {
   "display_name": "Python 3",
   "language": "python",
   "name": "python3"
  },
  "language_info": {
   "codemirror_mode": {
    "name": "ipython",
    "version": 2
   },
   "file_extension": ".py",
   "mimetype": "text/x-python",
   "name": "python",
   "nbconvert_exporter": "python",
   "pygments_lexer": "ipython2",
   "version": "2.7.6"
  }
 },
 "nbformat": 4,
 "nbformat_minor": 5
}
