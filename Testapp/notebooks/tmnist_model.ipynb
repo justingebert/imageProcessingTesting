{
 "cells": [
  {
   "cell_type": "code",
   "execution_count": 2,
   "id": "9aebd349cb37a307",
   "metadata": {
    "ExecuteTime": {
     "end_time": "2023-08-22T15:13:51.092804900Z",
     "start_time": "2023-08-22T15:13:48.746034500Z"
    },
    "collapsed": false
   },
   "outputs": [
    {
     "name": "stdout",
     "output_type": "stream",
     "text": [
      "2.10.0\n"
     ]
    }
   ],
   "source": [
    "import numpy as np\n",
    "import pandas as pd\n",
    "import matplotlib.pyplot as plt\n",
    "import tensorflow as tf\n",
    "import keras\n",
    "from keras.models import Sequential\n",
    "from keras.layers import Dense, Conv2D, Dropout, Flatten, MaxPooling2D, InputLayer\n",
    "\n",
    "print(tf.version.VERSION)"
   ]
  },
  {
   "cell_type": "markdown",
   "id": "3536462df959a59e",
   "metadata": {
    "collapsed": false
   },
   "source": [
    "## Read data\n"
   ]
  },
  {
   "cell_type": "code",
   "execution_count": 4,
   "id": "64f8c6a03f54ed05",
   "metadata": {
    "ExecuteTime": {
     "end_time": "2023-08-22T15:13:51.871804500Z",
     "start_time": "2023-08-22T15:13:51.093805Z"
    },
    "collapsed": false
   },
   "outputs": [
    {
     "data": {
      "text/html": [
       "<div>\n",
       "<style scoped>\n",
       "    .dataframe tbody tr th:only-of-type {\n",
       "        vertical-align: middle;\n",
       "    }\n",
       "\n",
       "    .dataframe tbody tr th {\n",
       "        vertical-align: top;\n",
       "    }\n",
       "\n",
       "    .dataframe thead th {\n",
       "        text-align: right;\n",
       "    }\n",
       "</style>\n",
       "<table border=\"1\" class=\"dataframe\">\n",
       "  <thead>\n",
       "    <tr style=\"text-align: right;\">\n",
       "      <th></th>\n",
       "      <th>names</th>\n",
       "      <th>labels</th>\n",
       "      <th>1</th>\n",
       "      <th>2</th>\n",
       "      <th>3</th>\n",
       "      <th>4</th>\n",
       "      <th>5</th>\n",
       "      <th>6</th>\n",
       "      <th>7</th>\n",
       "      <th>8</th>\n",
       "      <th>...</th>\n",
       "      <th>775</th>\n",
       "      <th>776</th>\n",
       "      <th>777</th>\n",
       "      <th>778</th>\n",
       "      <th>779</th>\n",
       "      <th>780</th>\n",
       "      <th>781</th>\n",
       "      <th>782</th>\n",
       "      <th>783</th>\n",
       "      <th>784</th>\n",
       "    </tr>\n",
       "  </thead>\n",
       "  <tbody>\n",
       "    <tr>\n",
       "      <th>0</th>\n",
       "      <td>GrandHotel-Regular</td>\n",
       "      <td>2</td>\n",
       "      <td>0</td>\n",
       "      <td>0</td>\n",
       "      <td>0</td>\n",
       "      <td>0</td>\n",
       "      <td>0</td>\n",
       "      <td>0</td>\n",
       "      <td>0</td>\n",
       "      <td>0</td>\n",
       "      <td>...</td>\n",
       "      <td>0</td>\n",
       "      <td>0</td>\n",
       "      <td>0</td>\n",
       "      <td>0</td>\n",
       "      <td>0</td>\n",
       "      <td>0</td>\n",
       "      <td>0</td>\n",
       "      <td>0</td>\n",
       "      <td>0</td>\n",
       "      <td>0</td>\n",
       "    </tr>\n",
       "    <tr>\n",
       "      <th>1</th>\n",
       "      <td>EncodeSansCondensed-Medium</td>\n",
       "      <td>8</td>\n",
       "      <td>0</td>\n",
       "      <td>0</td>\n",
       "      <td>0</td>\n",
       "      <td>0</td>\n",
       "      <td>0</td>\n",
       "      <td>0</td>\n",
       "      <td>0</td>\n",
       "      <td>0</td>\n",
       "      <td>...</td>\n",
       "      <td>0</td>\n",
       "      <td>0</td>\n",
       "      <td>0</td>\n",
       "      <td>0</td>\n",
       "      <td>0</td>\n",
       "      <td>0</td>\n",
       "      <td>0</td>\n",
       "      <td>0</td>\n",
       "      <td>0</td>\n",
       "      <td>0</td>\n",
       "    </tr>\n",
       "    <tr>\n",
       "      <th>2</th>\n",
       "      <td>Varela-Regular</td>\n",
       "      <td>4</td>\n",
       "      <td>0</td>\n",
       "      <td>0</td>\n",
       "      <td>0</td>\n",
       "      <td>0</td>\n",
       "      <td>0</td>\n",
       "      <td>0</td>\n",
       "      <td>0</td>\n",
       "      <td>0</td>\n",
       "      <td>...</td>\n",
       "      <td>0</td>\n",
       "      <td>0</td>\n",
       "      <td>0</td>\n",
       "      <td>0</td>\n",
       "      <td>0</td>\n",
       "      <td>0</td>\n",
       "      <td>0</td>\n",
       "      <td>0</td>\n",
       "      <td>0</td>\n",
       "      <td>0</td>\n",
       "    </tr>\n",
       "    <tr>\n",
       "      <th>3</th>\n",
       "      <td>ArefRuqaa-Bold</td>\n",
       "      <td>3</td>\n",
       "      <td>0</td>\n",
       "      <td>0</td>\n",
       "      <td>0</td>\n",
       "      <td>0</td>\n",
       "      <td>0</td>\n",
       "      <td>0</td>\n",
       "      <td>0</td>\n",
       "      <td>0</td>\n",
       "      <td>...</td>\n",
       "      <td>0</td>\n",
       "      <td>0</td>\n",
       "      <td>0</td>\n",
       "      <td>0</td>\n",
       "      <td>0</td>\n",
       "      <td>0</td>\n",
       "      <td>0</td>\n",
       "      <td>0</td>\n",
       "      <td>0</td>\n",
       "      <td>0</td>\n",
       "    </tr>\n",
       "    <tr>\n",
       "      <th>4</th>\n",
       "      <td>KulimPark-Regular</td>\n",
       "      <td>1</td>\n",
       "      <td>0</td>\n",
       "      <td>0</td>\n",
       "      <td>0</td>\n",
       "      <td>0</td>\n",
       "      <td>0</td>\n",
       "      <td>0</td>\n",
       "      <td>0</td>\n",
       "      <td>0</td>\n",
       "      <td>...</td>\n",
       "      <td>0</td>\n",
       "      <td>0</td>\n",
       "      <td>0</td>\n",
       "      <td>0</td>\n",
       "      <td>0</td>\n",
       "      <td>0</td>\n",
       "      <td>0</td>\n",
       "      <td>0</td>\n",
       "      <td>0</td>\n",
       "      <td>0</td>\n",
       "    </tr>\n",
       "    <tr>\n",
       "      <th>...</th>\n",
       "      <td>...</td>\n",
       "      <td>...</td>\n",
       "      <td>...</td>\n",
       "      <td>...</td>\n",
       "      <td>...</td>\n",
       "      <td>...</td>\n",
       "      <td>...</td>\n",
       "      <td>...</td>\n",
       "      <td>...</td>\n",
       "      <td>...</td>\n",
       "      <td>...</td>\n",
       "      <td>...</td>\n",
       "      <td>...</td>\n",
       "      <td>...</td>\n",
       "      <td>...</td>\n",
       "      <td>...</td>\n",
       "      <td>...</td>\n",
       "      <td>...</td>\n",
       "      <td>...</td>\n",
       "      <td>...</td>\n",
       "      <td>...</td>\n",
       "    </tr>\n",
       "    <tr>\n",
       "      <th>29895</th>\n",
       "      <td>Raleway[wght]</td>\n",
       "      <td>7</td>\n",
       "      <td>0</td>\n",
       "      <td>0</td>\n",
       "      <td>0</td>\n",
       "      <td>0</td>\n",
       "      <td>0</td>\n",
       "      <td>0</td>\n",
       "      <td>0</td>\n",
       "      <td>0</td>\n",
       "      <td>...</td>\n",
       "      <td>0</td>\n",
       "      <td>0</td>\n",
       "      <td>0</td>\n",
       "      <td>0</td>\n",
       "      <td>0</td>\n",
       "      <td>0</td>\n",
       "      <td>0</td>\n",
       "      <td>0</td>\n",
       "      <td>0</td>\n",
       "      <td>0</td>\n",
       "    </tr>\n",
       "    <tr>\n",
       "      <th>29896</th>\n",
       "      <td>Charm-Regular</td>\n",
       "      <td>5</td>\n",
       "      <td>0</td>\n",
       "      <td>0</td>\n",
       "      <td>0</td>\n",
       "      <td>0</td>\n",
       "      <td>0</td>\n",
       "      <td>0</td>\n",
       "      <td>0</td>\n",
       "      <td>0</td>\n",
       "      <td>...</td>\n",
       "      <td>0</td>\n",
       "      <td>0</td>\n",
       "      <td>0</td>\n",
       "      <td>0</td>\n",
       "      <td>0</td>\n",
       "      <td>0</td>\n",
       "      <td>0</td>\n",
       "      <td>0</td>\n",
       "      <td>0</td>\n",
       "      <td>0</td>\n",
       "    </tr>\n",
       "    <tr>\n",
       "      <th>29897</th>\n",
       "      <td>BigShouldersStencilDisplay-Black</td>\n",
       "      <td>0</td>\n",
       "      <td>0</td>\n",
       "      <td>0</td>\n",
       "      <td>0</td>\n",
       "      <td>0</td>\n",
       "      <td>0</td>\n",
       "      <td>0</td>\n",
       "      <td>0</td>\n",
       "      <td>0</td>\n",
       "      <td>...</td>\n",
       "      <td>0</td>\n",
       "      <td>0</td>\n",
       "      <td>0</td>\n",
       "      <td>0</td>\n",
       "      <td>0</td>\n",
       "      <td>0</td>\n",
       "      <td>0</td>\n",
       "      <td>0</td>\n",
       "      <td>0</td>\n",
       "      <td>0</td>\n",
       "    </tr>\n",
       "    <tr>\n",
       "      <th>29898</th>\n",
       "      <td>Gabriela-Regular</td>\n",
       "      <td>1</td>\n",
       "      <td>0</td>\n",
       "      <td>0</td>\n",
       "      <td>0</td>\n",
       "      <td>0</td>\n",
       "      <td>0</td>\n",
       "      <td>0</td>\n",
       "      <td>0</td>\n",
       "      <td>0</td>\n",
       "      <td>...</td>\n",
       "      <td>0</td>\n",
       "      <td>0</td>\n",
       "      <td>0</td>\n",
       "      <td>0</td>\n",
       "      <td>0</td>\n",
       "      <td>0</td>\n",
       "      <td>0</td>\n",
       "      <td>0</td>\n",
       "      <td>0</td>\n",
       "      <td>0</td>\n",
       "    </tr>\n",
       "    <tr>\n",
       "      <th>29899</th>\n",
       "      <td>Ovo-Regular</td>\n",
       "      <td>6</td>\n",
       "      <td>0</td>\n",
       "      <td>0</td>\n",
       "      <td>0</td>\n",
       "      <td>0</td>\n",
       "      <td>0</td>\n",
       "      <td>0</td>\n",
       "      <td>0</td>\n",
       "      <td>0</td>\n",
       "      <td>...</td>\n",
       "      <td>0</td>\n",
       "      <td>0</td>\n",
       "      <td>0</td>\n",
       "      <td>0</td>\n",
       "      <td>0</td>\n",
       "      <td>0</td>\n",
       "      <td>0</td>\n",
       "      <td>0</td>\n",
       "      <td>0</td>\n",
       "      <td>0</td>\n",
       "    </tr>\n",
       "  </tbody>\n",
       "</table>\n",
       "<p>29900 rows × 786 columns</p>\n",
       "</div>"
      ],
      "text/plain": [
       "                                  names  labels  1  2  3  4  5  6  7  8  ...  \\\n",
       "0                    GrandHotel-Regular       2  0  0  0  0  0  0  0  0  ...   \n",
       "1            EncodeSansCondensed-Medium       8  0  0  0  0  0  0  0  0  ...   \n",
       "2                        Varela-Regular       4  0  0  0  0  0  0  0  0  ...   \n",
       "3                        ArefRuqaa-Bold       3  0  0  0  0  0  0  0  0  ...   \n",
       "4                     KulimPark-Regular       1  0  0  0  0  0  0  0  0  ...   \n",
       "...                                 ...     ... .. .. .. .. .. .. .. ..  ...   \n",
       "29895                     Raleway[wght]       7  0  0  0  0  0  0  0  0  ...   \n",
       "29896                     Charm-Regular       5  0  0  0  0  0  0  0  0  ...   \n",
       "29897  BigShouldersStencilDisplay-Black       0  0  0  0  0  0  0  0  0  ...   \n",
       "29898                  Gabriela-Regular       1  0  0  0  0  0  0  0  0  ...   \n",
       "29899                       Ovo-Regular       6  0  0  0  0  0  0  0  0  ...   \n",
       "\n",
       "       775  776  777  778  779  780  781  782  783  784  \n",
       "0        0    0    0    0    0    0    0    0    0    0  \n",
       "1        0    0    0    0    0    0    0    0    0    0  \n",
       "2        0    0    0    0    0    0    0    0    0    0  \n",
       "3        0    0    0    0    0    0    0    0    0    0  \n",
       "4        0    0    0    0    0    0    0    0    0    0  \n",
       "...    ...  ...  ...  ...  ...  ...  ...  ...  ...  ...  \n",
       "29895    0    0    0    0    0    0    0    0    0    0  \n",
       "29896    0    0    0    0    0    0    0    0    0    0  \n",
       "29897    0    0    0    0    0    0    0    0    0    0  \n",
       "29898    0    0    0    0    0    0    0    0    0    0  \n",
       "29899    0    0    0    0    0    0    0    0    0    0  \n",
       "\n",
       "[29900 rows x 786 columns]"
      ]
     },
     "execution_count": 4,
     "metadata": {},
     "output_type": "execute_result"
    }
   ],
   "source": [
    "# load data\n",
    "data = pd.read_csv(\"../../data/csv/TMNIST_Data.csv\", header=0)\n",
    "data"
   ]
  },
  {
   "cell_type": "markdown",
   "id": "825eac6e",
   "metadata": {},
   "source": [
    "# normalize and split Data\n"
   ]
  },
  {
   "cell_type": "code",
   "execution_count": 4,
   "id": "4479b4f2f0e4ec54",
   "metadata": {
    "ExecuteTime": {
     "end_time": "2023-08-22T15:24:16.424986800Z",
     "start_time": "2023-08-22T15:24:15.969515700Z"
    },
    "collapsed": false
   },
   "outputs": [
    {
     "name": "stdout",
     "output_type": "stream",
     "text": [
      "(23920, 28, 28, 1)\n",
      "(23920,)\n",
      "(5980, 28, 28, 1)\n",
      "(5980,)\n"
     ]
    }
   ],
   "source": [
    "from sklearn.model_selection import train_test_split\n",
    "\n",
    "X = data.drop(columns={\"names\", \"labels\"}, axis=1)\n",
    "X = X.values.reshape(-1, 28, 28, 1) / 255.0  # normalize and reshape to square\n",
    "# X = 1 - X  # invert colors\n",
    "y = data[\"labels\"]\n",
    "\n",
    "X_train, X_test, y_train, y_test = train_test_split(\n",
    "    X, y, test_size=0.2, random_state=42\n",
    ")\n",
    "\n",
    "\n",
    "print(X_train.shape)\n",
    "print(y_train.shape)\n",
    "print(X_test.shape)\n",
    "print(y_test.shape)"
   ]
  },
  {
   "cell_type": "markdown",
   "id": "65628c1e",
   "metadata": {},
   "source": [
    "## show sample\n"
   ]
  },
  {
   "cell_type": "code",
   "execution_count": 5,
   "id": "7cb7cbc3a90941d5",
   "metadata": {
    "ExecuteTime": {
     "end_time": "2023-08-22T15:24:16.540985100Z",
     "start_time": "2023-08-22T15:24:16.426997700Z"
    },
    "collapsed": false
   },
   "outputs": [
    {
     "data": {
      "image/png": "[encoded data removed]",
      "text/plain": [
       "<Figure size 640x480 with 1 Axes>"
      ]
     },
     "metadata": {},
     "output_type": "display_data"
    }
   ],
   "source": [
    "sample_image = X_train[1]\n",
    "\n",
    "# Plot the image\n",
    "plt.imshow(sample_image, cmap=\"gray\")\n",
    "plt.show()"
   ]
  },
  {
   "cell_type": "markdown",
   "id": "e6b99cf4",
   "metadata": {},
   "source": [
    "## Hyperparameters\n"
   ]
  },
  {
   "cell_type": "code",
   "execution_count": 6,
   "id": "9fb425c48c793757",
   "metadata": {
    "ExecuteTime": {
     "end_time": "2023-08-22T15:24:16.588986600Z",
     "start_time": "2023-08-22T15:24:16.533987300Z"
    },
    "collapsed": false
   },
   "outputs": [],
   "source": [
    "batch_size = 128\n",
    "num_classes = 10\n",
    "epochs = 6\n",
    "learning_rate = 0.001"
   ]
  },
  {
   "cell_type": "markdown",
   "id": "1f681b76",
   "metadata": {},
   "source": [
    "## Model Structure\n"
   ]
  },
  {
   "cell_type": "code",
   "execution_count": 7,
   "id": "d9cfcb89dde3df70",
   "metadata": {
    "ExecuteTime": {
     "end_time": "2023-08-22T15:24:16.686984700Z",
     "start_time": "2023-08-22T15:24:16.595984700Z"
    },
    "collapsed": false
   },
   "outputs": [
    {
     "name": "stdout",
     "output_type": "stream",
     "text": [
      "Model: \"sequential\"\n",
      "_________________________________________________________________\n",
      " Layer (type)                Output Shape              Param #   \n",
      "=================================================================\n",
      " conv2d (Conv2D)             (None, 26, 26, 32)        320       \n",
      "                                                                 \n",
      " max_pooling2d (MaxPooling2D  (None, 13, 13, 32)       0         \n",
      " )                                                               \n",
      "                                                                 \n",
      " conv2d_1 (Conv2D)           (None, 11, 11, 64)        18496     \n",
      "                                                                 \n",
      " flatten (Flatten)           (None, 7744)              0         \n",
      "                                                                 \n",
      " dense (Dense)               (None, 128)               991360    \n",
      "                                                                 \n",
      " dropout (Dropout)           (None, 128)               0         \n",
      "                                                                 \n",
      " dense_1 (Dense)             (None, 10)                1290      \n",
      "                                                                 \n",
      "=================================================================\n",
      "Total params: 1,011,466\n",
      "Trainable params: 1,011,466\n",
      "Non-trainable params: 0\n",
      "_________________________________________________________________\n"
     ]
    }
   ],
   "source": [
    "# create model\n",
    "model = Sequential()\n",
    "model.add(InputLayer(input_shape=(28, 28, 1)))\n",
    "model.add(Conv2D(32, kernel_size=(3, 3), activation=\"relu\", input_shape=(28, 28, 1)))\n",
    "model.add(MaxPooling2D(pool_size=(2, 2)))\n",
    "model.add(Conv2D(64, kernel_size=(3, 3), activation=\"relu\"))\n",
    "model.add(Flatten())  # Flattening the 2D arrays for fully connected layers\n",
    "model.add(Dense(128, activation=\"relu\"))\n",
    "model.add(Dropout(0.2))\n",
    "model.add(Dense(num_classes, activation=\"softmax\"))  # no softmax for thresholding\n",
    "\n",
    "model.summary()"
   ]
  },
  {
   "cell_type": "markdown",
   "id": "54308afa",
   "metadata": {},
   "source": [
    "## set compiler\n"
   ]
  },
  {
   "cell_type": "code",
   "execution_count": 8,
   "id": "6c87aef551128ef5",
   "metadata": {
    "ExecuteTime": {
     "end_time": "2023-08-22T15:24:17.058684400Z",
     "start_time": "2023-08-22T15:24:17.026687500Z"
    },
    "collapsed": false
   },
   "outputs": [],
   "source": [
    "# compile model\n",
    "model.compile(\n",
    "    optimizer=tf.keras.optimizers.Adam(learning_rate=learning_rate),\n",
    "    loss=\"sparse_categorical_crossentropy\",\n",
    "    metrics=[\"accuracy\"],\n",
    ")"
   ]
  },
  {
   "cell_type": "markdown",
   "id": "464585ce",
   "metadata": {},
   "source": [
    "## train model\n"
   ]
  },
  {
   "cell_type": "code",
   "execution_count": 9,
   "id": "d6b90466ed3fe170",
   "metadata": {
    "ExecuteTime": {
     "end_time": "2023-08-22T15:25:27.583117800Z",
     "start_time": "2023-08-22T15:24:17.523494400Z"
    },
    "collapsed": false
   },
   "outputs": [
    {
     "name": "stdout",
     "output_type": "stream",
     "text": [
      "Epoch 1/6\n",
      "187/187 [==============================] - 7s 33ms/step - loss: 0.2457 - accuracy: 0.9311 - val_loss: 0.0793 - val_accuracy: 0.9778\n",
      "Epoch 2/6\n",
      "187/187 [==============================] - 6s 31ms/step - loss: 0.0650 - accuracy: 0.9809 - val_loss: 0.0528 - val_accuracy: 0.9865\n",
      "Epoch 3/6\n",
      "187/187 [==============================] - 6s 32ms/step - loss: 0.0439 - accuracy: 0.9866 - val_loss: 0.0411 - val_accuracy: 0.9891\n",
      "Epoch 4/6\n",
      "187/187 [==============================] - 6s 31ms/step - loss: 0.0300 - accuracy: 0.9906 - val_loss: 0.0364 - val_accuracy: 0.9903\n",
      "Epoch 5/6\n",
      "187/187 [==============================] - 6s 32ms/step - loss: 0.0224 - accuracy: 0.9932 - val_loss: 0.0512 - val_accuracy: 0.9858\n",
      "Epoch 6/6\n",
      "187/187 [==============================] - 6s 31ms/step - loss: 0.0183 - accuracy: 0.9938 - val_loss: 0.0391 - val_accuracy: 0.9906\n"
     ]
    }
   ],
   "source": [
    "# train model\n",
    "history = model.fit(\n",
    "    x=X_train,\n",
    "    y=y_train,\n",
    "    epochs=epochs,\n",
    "    batch_size=batch_size,\n",
    "    validation_data=(X_test, y_test),\n",
    "    verbose=1,\n",
    ")"
   ]
  },
  {
   "cell_type": "markdown",
   "id": "0ce2c2cb",
   "metadata": {},
   "source": [
    "## Evaluate loss and accuracy\n"
   ]
  },
  {
   "cell_type": "code",
   "execution_count": 10,
   "id": "f03624acad85a67c",
   "metadata": {
    "ExecuteTime": {
     "end_time": "2023-08-22T15:25:28.351635Z",
     "start_time": "2023-08-22T15:25:27.552126800Z"
    },
    "collapsed": false
   },
   "outputs": [
    {
     "name": "stdout",
     "output_type": "stream",
     "text": [
      "Test loss: 0.03907255455851555\n",
      "Test accuracy: 99.06354546546936\n"
     ]
    }
   ],
   "source": [
    "# evaluate model\n",
    "score = model.evaluate(X_test, y_test, verbose=0)\n",
    "print(\"Test loss:\", score[0])\n",
    "print(\"Test accuracy:\", score[1] * 100)"
   ]
  },
  {
   "cell_type": "markdown",
   "id": "51df0f04",
   "metadata": {},
   "source": [
    "## plot loss and accuracy to check for over/underfitting\n"
   ]
  },
  {
   "cell_type": "code",
   "execution_count": 11,
   "id": "e205a2767c503fa3",
   "metadata": {
    "ExecuteTime": {
     "end_time": "2023-08-22T15:25:28.464639500Z",
     "start_time": "2023-08-22T15:25:28.343638500Z"
    },
    "collapsed": false
   },
   "outputs": [
    {
     "data": {
      "image/png": "[encoded data removed]",
      "text/plain": [
       "<Figure size 640x480 with 1 Axes>"
      ]
     },
     "metadata": {},
     "output_type": "display_data"
    }
   ],
   "source": [
    "# plot training and test loss\n",
    "plt.plot(history.history[\"loss\"])\n",
    "plt.plot(history.history[\"val_loss\"])\n",
    "plt.title(\"Model loss\")\n",
    "plt.ylabel(\"Loss\")\n",
    "plt.xlabel(\"Epoch\")\n",
    "plt.legend([\"Train\", \"Test\"])\n",
    "plt.show()"
   ]
  },
  {
   "cell_type": "code",
   "execution_count": 12,
   "id": "1c097e9970b04f99",
   "metadata": {
    "ExecuteTime": {
     "end_time": "2023-08-22T15:25:28.568639200Z",
     "start_time": "2023-08-22T15:25:28.455637Z"
    },
    "collapsed": false
   },
   "outputs": [
    {
     "data": {
      "image/png": "[encoded data removed]",
      "text/plain": [
       "<Figure size 640x480 with 1 Axes>"
      ]
     },
     "metadata": {},
     "output_type": "display_data"
    }
   ],
   "source": [
    "# plot training and test accuracy\n",
    "plt.plot(history.history[\"accuracy\"])\n",
    "plt.plot(history.history[\"val_accuracy\"])\n",
    "plt.title(\"Model accuracy\")\n",
    "plt.ylabel(\"Accuracy\")\n",
    "plt.xlabel(\"Epoch\")\n",
    "plt.legend([\"Train\", \"Test\"])\n",
    "plt.show()"
   ]
  },
  {
   "cell_type": "markdown",
   "id": "8759fc88",
   "metadata": {},
   "source": [
    "## use model to predit on test sample\n"
   ]
  },
  {
   "cell_type": "code",
   "execution_count": 13,
   "id": "86a052b68612fd9a",
   "metadata": {
    "ExecuteTime": {
     "end_time": "2023-08-22T15:25:29.509169100Z",
     "start_time": "2023-08-22T15:25:28.565637500Z"
    },
    "collapsed": false
   },
   "outputs": [
    {
     "name": "stdout",
     "output_type": "stream",
     "text": [
      "187/187 [==============================] - 1s 3ms/step\n",
      "[5.2979343e-14 1.3358090e-12 6.7645625e-11 1.0000000e+00 1.1930410e-16\n",
      " 1.2300604e-12 1.2443385e-17 1.0534604e-11 8.2652558e-11 6.0248090e-10]\n",
      "3\n",
      "15756    3\n",
      "19617    5\n",
      "18973    8\n",
      "16397    9\n",
      "16366    0\n",
      "        ..\n",
      "708      9\n",
      "23587    8\n",
      "27362    3\n",
      "20592    8\n",
      "9934     5\n",
      "Name: labels, Length: 5980, dtype: int64\n"
     ]
    }
   ],
   "source": [
    "# predict model\n",
    "predictions = model.predict(X_test)\n",
    "print(predictions[0])\n",
    "print(np.argmax(predictions[0]))\n",
    "print(y_test[:])  # why is this not indexed from 0?"
   ]
  },
  {
   "cell_type": "markdown",
   "id": "ce32bba8",
   "metadata": {},
   "source": [
    "## save model to models folder\n"
   ]
  },
  {
   "cell_type": "code",
   "execution_count": 14,
   "id": "4e5867e1a60c8681",
   "metadata": {
    "ExecuteTime": {
     "end_time": "2023-08-22T15:25:29.555167800Z",
     "start_time": "2023-08-22T15:25:29.491635500Z"
    },
    "collapsed": false
   },
   "outputs": [],
   "source": [
    "# save model\n",
    "model.save(\"../models/TMNIST_model.keras\")"
   ]
  }
 ],
 "metadata": {
  "kernelspec": {
   "display_name": "Python 3",
   "language": "python",
   "name": "python3"
  },
  "language_info": {
   "codemirror_mode": {
    "name": "ipython",
    "version": 3
   },
   "file_extension": ".py",
   "mimetype": "text/x-python",
   "name": "python",
   "nbconvert_exporter": "python",
   "pygments_lexer": "ipython3",
   "version": "3.9.0"
  }
 },
 "nbformat": 4,
 "nbformat_minor": 5
}
