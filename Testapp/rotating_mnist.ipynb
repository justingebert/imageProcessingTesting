{
 "cells": [
  {
   "cell_type": "code",
   "execution_count": null,
   "id": "initial_id",
   "metadata": {
    "collapsed": true
   },
   "outputs": [],
   "source": [
    "import numpy as np\n",
    "import pandas as pd\n",
    "from sklearn.model_selection import train_test_split\n",
    "\n",
    "# Load TMNIST dataset from CSV\n",
    "data = pd.read_csv('data/TMNIST_Data.csv', header=0)\n",
    "\n",
    "# Convert pixel values to image format and normalize\n",
    "images = data.iloc[:, 2:].values / 255.0\n",
    "images = images.reshape(-1, 28, 28)\n",
    "\n",
    "# Split dataset into train and test sets\n",
    "train_images, test_images, train_labels, test_labels = train_test_split(\n",
    "    images, data['label'].values, test_size=0.2, random_state=42\n",
    ")\n",
    "\n",
    "# Create a function to swap image halves and assign label 0.5\n",
    "def create_swapped_image(image1, image2):\n",
    "    new_image = np.vstack((image2[:14, :], image1[14:, :]))\n",
    "    new_label = 0.5\n",
    "    return new_image, new_label\n",
    "\n",
    "# Create transformed dataset\n",
    "transformed_images = []\n",
    "transformed_labels = []\n",
    "\n",
    "for label1, label2 in zip(range(0, 9), range(1, 10)):\n",
    "    label1_images = train_images[train_labels == label1]\n",
    "    label2_images = train_images[train_labels == label2]\n",
    "    \n",
    "    for image1, image2 in zip(label1_images, label2_images):\n",
    "        new_image, new_label = create_swapped_image(image1, image2)\n",
    "        transformed_images.append(new_image)\n",
    "        transformed_labels.append(new_label)\n",
    "\n",
    "transformed_images = np.array(transformed_images)\n",
    "transformed_labels = np.array(transformed_labels)"
   ]
  }
 ],
 "metadata": {
  "kernelspec": {
   "display_name": "Python 3",
   "language": "python",
   "name": "python3"
  },
  "language_info": {
   "codemirror_mode": {
    "name": "ipython",
    "version": 2
   },
   "file_extension": ".py",
   "mimetype": "text/x-python",
   "name": "python",
   "nbconvert_exporter": "python",
   "pygments_lexer": "ipython2",
   "version": "2.7.6"
  }
 },
 "nbformat": 4,
 "nbformat_minor": 5
}
